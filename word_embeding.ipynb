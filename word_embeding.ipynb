{
 "cells": [
  {
   "cell_type": "code",
   "execution_count": 46,
   "id": "41b15699",
   "metadata": {},
   "outputs": [],
   "source": [
    "import numpy as np\n",
    "import math"
   ]
  },
  {
   "cell_type": "code",
   "execution_count": 70,
   "id": "94e742a4",
   "metadata": {},
   "outputs": [],
   "source": [
    "def similarities(s1,s2):\n",
    "    \n",
    "    s1=s1.lower()\n",
    "    s2=s2.lower()\n",
    "\n",
    "    #split the string into an array of words\n",
    "    s1_list=s1.split()\n",
    "    s2_list=s2.split()\n",
    "    \n",
    "    for ss in s1_list:\n",
    "        if not ss.isalnum():\n",
    "            s1_list.remove(ss)\n",
    "            \n",
    "    for ss in s2_list:\n",
    "        if not ss.isalnum():\n",
    "            s2_list.remove(ss)\n",
    "            \n",
    "        \n",
    "    \n",
    "    #remove duplicates and co;bine them\n",
    "    s1_set=set(s1_list)\n",
    "    s2_set=set(s2_list)\n",
    "    \n",
    "    s_set=s1_set.union(s2_set)\n",
    "    \n",
    "    \n",
    "    #Count the occurence of a word\n",
    "    dict1={}\n",
    "    dict2={}\n",
    "    \n",
    "    #initialize the word to 0\n",
    "    for s in s_set:\n",
    "        dict1[s]=0\n",
    "        dict2[s]=0\n",
    "        \n",
    "        #add the occurence of the word to a dictionary\n",
    "        for word in s1_list:\n",
    "            if s == word:\n",
    "                dict1[s]=dict1[s]+1\n",
    "                \n",
    "        for word2 in s2_list:\n",
    "            if s == word2:\n",
    "                dict2[s]=dict2[s]+1\n",
    "                \n",
    "    #get the list of value and convert to numpy --> vector            \n",
    "    v1=np.array(list(dict1.values()))\n",
    "    v2=np.array(list(dict2.values()))\n",
    "    \n",
    "   \n",
    "    #Dot product of two vector\n",
    "    dot_product=v1.dot(v2)\n",
    "    \n",
    "    #manual calcul of norm\n",
    "    norm_v1=calculate_norm(v1)\n",
    "    norm_v2=calculate_norm(v2)\n",
    "    \n",
    "    #norm_v1=np.linalg.norm(v1)  norm with numpy\n",
    "    #norm_v2=np.linalg.norm(v2)  norm with numpy\n",
    "    \n",
    "    cosine_sim=dot_product/(norm_v1*norm_v2)\n",
    "    \n",
    "    \n",
    "    return cosine_sim\n",
    "    \n",
    "    \n",
    "        \n",
    "def calculate_norm(v):\n",
    "    total=0\n",
    "    \n",
    "    for vs in v:\n",
    "        total+=vs**2\n",
    "\n",
    "        \n",
    "        \n",
    "    return math.sqrt(total)\n",
    "        \n",
    "        \n",
    "\n",
    "        \n",
    "\n",
    "            \n",
    "    \n",
    "    "
   ]
  },
  {
   "cell_type": "code",
   "execution_count": 71,
   "id": "f6f302f2",
   "metadata": {},
   "outputs": [
    {
     "data": {
      "text/plain": [
       "0.6480208674116436"
      ]
     },
     "execution_count": 71,
     "metadata": {},
     "output_type": "execute_result"
    }
   ],
   "source": [
    "sentence1=\"Mammals (from Latin mamma, 'breast') are a group of vertebrate animals constituting the class Mammalia (/məˈmeɪliə/), and characterized by the presence of mammary glands which in females produce milk for feeding (nursing) their young, a neocortex (a region of the brain), fur or hair, and three middle ear bones. These characteristics distinguish them from reptiles and birds, from which they diverged in the Carboniferous, over 300 million years ago. Around 6,400 extant species of mammals have been described. The largest orders are the rodents, bats and Eulipotyphla (hedgehogs, moles, shrews, and others). The next three are the Primates (including humans, apes, monkeys, and others), the Artiodactyla (cetaceans and even-toed ungulates), and the Carnivora (cats, dogs, seals, and others).\"\n",
    "sentence2 = \"mammal, (class Mammalia), any member of the group of vertebrate animals in which the young are nourished with milk from special mammary glands of the mother. In addition to these characteristic milk glands, mammals are distinguished by several other unique features. Hair is a typical mammalian feature, although in many whales it has disappeared except in the fetal stage. The mammalian lower jaw is hinged directly to the skull, instead of through a separate bone (the quadrate) as in all other vertebrates. A chain of three tiny bones transmits sound waves across the middle ear. A muscular diaphragm separates the heart and the lungs from the abdominal cavity. Only the left aortic arch persists. (In birds the right aortic arch persists; in reptiles, amphibians, and fishes both arches are retained.) Mature red blood cells (erythrocytes) in all mammals lack a nucleus; all other vertebrates have nucleated red blood cells.\"\n",
    "\n",
    "similarities(sentence1,sentence2)"
   ]
  }
 ],
 "metadata": {
  "kernelspec": {
   "display_name": "Python 3",
   "language": "python",
   "name": "python3"
  },
  "language_info": {
   "codemirror_mode": {
    "name": "ipython",
    "version": 3
   },
   "file_extension": ".py",
   "mimetype": "text/x-python",
   "name": "python",
   "nbconvert_exporter": "python",
   "pygments_lexer": "ipython3",
   "version": "3.8.8"
  }
 },
 "nbformat": 4,
 "nbformat_minor": 5
}
